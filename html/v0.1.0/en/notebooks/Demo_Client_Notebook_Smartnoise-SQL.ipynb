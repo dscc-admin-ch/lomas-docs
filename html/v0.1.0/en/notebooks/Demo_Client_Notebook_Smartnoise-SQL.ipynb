{
 "cells": [
  {
   "cell_type": "markdown",
   "id": "0",
   "metadata": {},
   "source": [
    "# Lomas Client Side: Using Smartnoise-SQL"
   ]
  },
  {
   "cell_type": "markdown",
   "id": "1",
   "metadata": {},
   "source": [
    "This notebook showcases how researcher could use lomas platform with Smartnoise-SQL. It explains the different functionnalities provided by the `lomas-client` client library to interact with lomas server.\n",
    "\n",
    "The secure data are never visible by researchers. They can only access to differentially private responses via queries to the server.\n",
    "\n",
    "Each user has access to one or multiple projects and for each dataset has a limited budget $\\epsilon$, $\\delta$."
   ]
  },
  {
   "cell_type": "markdown",
   "id": "2",
   "metadata": {},
   "source": [
    "In this notebook the researcher is a penguin researcher named Dr. Antarctica. She aims to do a grounbdbreaking research on various penguins data."
   ]
  },
  {
   "cell_type": "markdown",
   "id": "3",
   "metadata": {},
   "source": [
    "## Step 1: Install the library\n",
    "To interact with the secure server on which the data is stored, Dr.Antartica first needs to install the library `lomas-client` on her local developping environment. \n",
    "\n",
    "It can be installed via the pip command:"
   ]
  },
  {
   "cell_type": "code",
   "execution_count": null,
   "id": "4",
   "metadata": {},
   "outputs": [],
   "source": [
    "# !pip install lomas_client"
   ]
  },
  {
   "cell_type": "markdown",
   "id": "5",
   "metadata": {},
   "source": [
    "Or using a local version of the client"
   ]
  },
  {
   "cell_type": "code",
   "execution_count": null,
   "id": "6",
   "metadata": {},
   "outputs": [],
   "source": [
    "import sys\n",
    "import os\n",
    "sys.path.append(os.path.abspath(os.path.join('..')))"
   ]
  },
  {
   "cell_type": "code",
   "execution_count": null,
   "id": "7",
   "metadata": {},
   "outputs": [],
   "source": [
    "from lomas_client.client import Client\n",
    "import numpy as np"
   ]
  },
  {
   "cell_type": "markdown",
   "id": "8",
   "metadata": {},
   "source": [
    "## Step 2: Initialise the client\n",
    "\n",
    "Once the library is installed, a Client object must be created. It is responsible for sending sending requests to the server and processing responses in the local environment. It enables a seamless interaction with the server. \n",
    "\n",
    "The client needs a few parameters to be created. Usually, these would be set in the environment by the system administrator (queen Icebergina) and be transparent to lomas users. In this instance, the following code snippet sets a few of these parameters that are specific to this notebook. \n",
    "\n",
    "She will only be able to query on the real dataset if the administrator has previously made her an account in the database, given her access to the PENGUIN dataset and has given her some $\\epsilon$, $\\delta$ privacy loss budget."
   ]
  },
  {
   "cell_type": "code",
   "execution_count": null,
   "id": "9",
   "metadata": {},
   "outputs": [],
   "source": [
    "# The following would usually be set in the environment by a system administrator\n",
    "# and be tranparent to lomas users.\n",
    "# Uncomment them if you are running against a Kubernetes deployment.\n",
    "# They have already been set for you if you are running locally within a devenv or the Jupyter lab set up by Docker compose.\n",
    "\n",
    "import os\n",
    "# os.environ[\"LOMAS_CLIENT_APP_URL\"] = \"https://lomas.example.com:443\"\n",
    "# os.environ[\"LOMAS_CLIENT_KEYCLOAK_URL\"] = \"https://keycloak.example.com:443\"\n",
    "# os.environ[\"LOMAS_CLIENT_TELEMETRY__ENABLED\"] = \"false\"\n",
    "# os.environ[\"LOMAS_CLIENT_TELEMETRY__COLLECTOR_ENDPOINT\"] = \"http://otel.example.com:445\"\n",
    "# os.environ[\"LOMAS_CLIENT_TELEMETRY__COLLECTOR_INSECURE\"] = \"true\"\n",
    "# os.environ[\"LOMAS_CLIENT_TELEMETRY__SERVICE_ID\"] = \"my-app-client\"\n",
    "# os.environ[\"LOMAS_CLIENT_REALM\"] = \"lomas\"\n",
    "\n",
    "# We set these ones because they are specific to this notebook.\n",
    "\n",
    "USER_NAME = \"Dr.Antartica\"\n",
    "os.environ[\"LOMAS_CLIENT_CLIENT_ID\"] = USER_NAME\n",
    "os.environ[\"LOMAS_CLIENT_CLIENT_SECRET\"] = USER_NAME.lower()\n",
    "os.environ[\"LOMAS_CLIENT_DATASET_NAME\"] = \"PENGUIN\"\n",
    "\n",
    "# Note that all client settings can also be passed as keyword arguments to the Client constructor.\n",
    "# eg. client = Client(client_id = \"Dr.Antartica\") takes precedence over setting the \"LOMAS_CLIENT_CLIENT_ID\"\n",
    "# environment variable."
   ]
  },
  {
   "cell_type": "code",
   "execution_count": null,
   "id": "10",
   "metadata": {},
   "outputs": [],
   "source": [
    "client = Client()"
   ]
  },
  {
   "cell_type": "markdown",
   "id": "11",
   "metadata": {},
   "source": [
    "And that's it for the preparation. She is now ready to use the various functionnalities offered by `lomas-client`."
   ]
  },
  {
   "cell_type": "markdown",
   "id": "12",
   "metadata": {},
   "source": [
    "## Step 3: Getting dataset metadata"
   ]
  },
  {
   "cell_type": "code",
   "execution_count": null,
   "id": "13",
   "metadata": {},
   "outputs": [
    {
     "data": {
      "text/plain": [
       "{'max_ids': 1,\n",
       " 'rows': 344,\n",
       " 'row_privacy': True,\n",
       " 'censor_dims': False,\n",
       " 'columns': {'species': {'private_id': False,\n",
       "   'nullable': False,\n",
       "   'max_partition_length': None,\n",
       "   'max_influenced_partitions': None,\n",
       "   'max_partition_contributions': None,\n",
       "   'type': 'string',\n",
       "   'cardinality': 3,\n",
       "   'categories': ['Adelie', 'Chinstrap', 'Gentoo']},\n",
       "  'island': {'private_id': False,\n",
       "   'nullable': False,\n",
       "   'max_partition_length': None,\n",
       "   'max_influenced_partitions': None,\n",
       "   'max_partition_contributions': None,\n",
       "   'type': 'string',\n",
       "   'cardinality': 3,\n",
       "   'categories': ['Torgersen', 'Biscoe', 'Dream']},\n",
       "  'bill_length_mm': {'private_id': False,\n",
       "   'nullable': False,\n",
       "   'max_partition_length': None,\n",
       "   'max_influenced_partitions': None,\n",
       "   'max_partition_contributions': None,\n",
       "   'type': 'float',\n",
       "   'precision': 64,\n",
       "   'lower': 30.0,\n",
       "   'upper': 65.0},\n",
       "  'bill_depth_mm': {'private_id': False,\n",
       "   'nullable': False,\n",
       "   'max_partition_length': None,\n",
       "   'max_influenced_partitions': None,\n",
       "   'max_partition_contributions': None,\n",
       "   'type': 'float',\n",
       "   'precision': 64,\n",
       "   'lower': 13.0,\n",
       "   'upper': 23.0},\n",
       "  'flipper_length_mm': {'private_id': False,\n",
       "   'nullable': False,\n",
       "   'max_partition_length': None,\n",
       "   'max_influenced_partitions': None,\n",
       "   'max_partition_contributions': None,\n",
       "   'type': 'float',\n",
       "   'precision': 64,\n",
       "   'lower': 150.0,\n",
       "   'upper': 250.0},\n",
       "  'body_mass_g': {'private_id': False,\n",
       "   'nullable': False,\n",
       "   'max_partition_length': None,\n",
       "   'max_influenced_partitions': None,\n",
       "   'max_partition_contributions': None,\n",
       "   'type': 'float',\n",
       "   'precision': 64,\n",
       "   'lower': 2000.0,\n",
       "   'upper': 7000.0},\n",
       "  'sex': {'private_id': False,\n",
       "   'nullable': False,\n",
       "   'max_partition_length': None,\n",
       "   'max_influenced_partitions': None,\n",
       "   'max_partition_contributions': None,\n",
       "   'type': 'string',\n",
       "   'cardinality': 2,\n",
       "   'categories': ['MALE', 'FEMALE']}}}"
      ]
     },
     "execution_count": null,
     "metadata": {},
     "output_type": "execute_result"
    }
   ],
   "source": [
    "metadata = client.get_dataset_metadata()\n",
    "metadata"
   ]
  },
  {
   "cell_type": "code",
   "execution_count": null,
   "id": "14",
   "metadata": {},
   "outputs": [
    {
     "name": "stdout",
     "output_type": "stream",
     "text": [
      "Number of penguins: 344.\n"
     ]
    }
   ],
   "source": [
    "nb_penguin = metadata['rows']\n",
    "print(f\"Number of penguins: {nb_penguin}.\")"
   ]
  },
  {
   "cell_type": "code",
   "execution_count": null,
   "id": "15",
   "metadata": {},
   "outputs": [
    {
     "data": {
      "text/plain": [
       "dict_keys(['species', 'island', 'bill_length_mm', 'bill_depth_mm', 'flipper_length_mm', 'body_mass_g', 'sex'])"
      ]
     },
     "execution_count": null,
     "metadata": {},
     "output_type": "execute_result"
    }
   ],
   "source": [
    "columns = metadata[\"columns\"].keys()\n",
    "columns"
   ]
  },
  {
   "cell_type": "markdown",
   "id": "16",
   "metadata": {},
   "source": [
    "## Step 4: Average bill length with Smartnoise-SQL"
   ]
  },
  {
   "cell_type": "markdown",
   "id": "17",
   "metadata": {},
   "source": [
    "### Query dummy dataset\n",
    "\n",
    "Now that she has an idea of what the data looks like, she wants to start querying the real dataset to for her research. However, before this, other tools are at her disposal to reduce potential error risks and avoid spending budget on irrelevant queries. Of course, this does not have any impact on the budget.\n",
    "\n",
    "It is possible to specify the flag `dummy=True` in the various queries to perform the query on the dummy dataset instead of the real dataset and ensure that the queries are doing what is expected of them. "
   ]
  },
  {
   "cell_type": "code",
   "execution_count": null,
   "id": "18",
   "metadata": {},
   "outputs": [],
   "source": [
    "# Average bill length in mm\n",
    "QUERY = \"SELECT AVG(bill_length_mm) AS avg_bill_length_mm FROM df\""
   ]
  },
  {
   "cell_type": "code",
   "execution_count": null,
   "id": "19",
   "metadata": {},
   "outputs": [],
   "source": [
    "EPSILON = 0.5\n",
    "DELTA = 1e-5"
   ]
  },
  {
   "cell_type": "code",
   "execution_count": null,
   "id": "20",
   "metadata": {},
   "outputs": [],
   "source": [
    "# On the remote server dummy dataframe\n",
    "dummy_res = client.smartnoise_sql.query(\n",
    "    query = QUERY,  \n",
    "    epsilon = EPSILON,\n",
    "    delta = DELTA,\n",
    "    dummy = True,\n",
    ")"
   ]
  },
  {
   "cell_type": "code",
   "execution_count": null,
   "id": "21",
   "metadata": {},
   "outputs": [
    {
     "data": {
      "text/plain": [
       "'Average bill length on dummy: 48.8mm.'"
      ]
     },
     "execution_count": null,
     "metadata": {},
     "output_type": "execute_result"
    }
   ],
   "source": [
    "avg_bl_dummy = np.round(dummy_res.result.df[\"avg_bill_length_mm\"][0], 2)\n",
    "f\"Average bill length on dummy: {avg_bl_dummy}mm.\""
   ]
  },
  {
   "cell_type": "markdown",
   "id": "22",
   "metadata": {},
   "source": [
    "### Estimate cost of a query\n",
    "Dr. Antartica checks the budget that computing the average bill length will really cost her if she asks the query with an `epsilon` and a `delta`."
   ]
  },
  {
   "cell_type": "code",
   "execution_count": null,
   "id": "23",
   "metadata": {},
   "outputs": [],
   "source": [
    "cost = client.smartnoise_sql.cost(\n",
    "    query = QUERY, \n",
    "    epsilon = EPSILON, \n",
    "    delta = DELTA,\n",
    ")"
   ]
  },
  {
   "cell_type": "code",
   "execution_count": null,
   "id": "24",
   "metadata": {},
   "outputs": [
    {
     "data": {
      "text/plain": [
       "'This query would actually cost her 1.0 epsilon and 5.000000000032756e-06 delta.'"
      ]
     },
     "execution_count": null,
     "metadata": {},
     "output_type": "execute_result"
    }
   ],
   "source": [
    "f'This query would actually cost her {cost.epsilon} epsilon and {cost.delta} delta.'"
   ]
  },
  {
   "cell_type": "markdown",
   "id": "25",
   "metadata": {},
   "source": [
    "This is actually twice as much as what she initially put in. In the background, Smartnoise-SQL decomposes the DP query in multiple other queries and the budget given as input is spent on each of these sub-queries. Here for the average, we need a sum divided by a count, hence `EPSILON` is spent once for the sum and then once more for the count. (see NOTE below for tips and explanation)."
   ]
  },
  {
   "cell_type": "markdown",
   "id": "26",
   "metadata": {},
   "source": [
    "### Overide DP mechanism"
   ]
  },
  {
   "cell_type": "markdown",
   "id": "27",
   "metadata": {},
   "source": [
    "She wants to use another DP-mechanism for this query. She can change it via the `mechanism` argument. See Smartnoise-SQL documentation [here for overriding mechanisms](https://docs.smartnoise.org/sql/advanced.html#overriding-mechanisms)."
   ]
  },
  {
   "cell_type": "code",
   "execution_count": null,
   "id": "28",
   "metadata": {},
   "outputs": [],
   "source": [
    "# On the remote server dummy dataframe\n",
    "dummy_res = client.smartnoise_sql.query(\n",
    "    query = QUERY,  \n",
    "    epsilon = EPSILON,\n",
    "    delta = DELTA,\n",
    "    mechanisms = {\"count\": \"gaussian\", \"sum_float\": \"laplace\"},\n",
    "    dummy = True,\n",
    ")"
   ]
  },
  {
   "cell_type": "code",
   "execution_count": null,
   "id": "29",
   "metadata": {},
   "outputs": [
    {
     "data": {
      "text/plain": [
       "'Average bill length on dummy: 55.31mm.'"
      ]
     },
     "execution_count": null,
     "metadata": {},
     "output_type": "execute_result"
    }
   ],
   "source": [
    "avg_bl_dummy = np.round(dummy_res.result.df[\"avg_bill_length_mm\"][0], 2)\n",
    "f\"Average bill length on dummy: {avg_bl_dummy}mm.\""
   ]
  },
  {
   "cell_type": "code",
   "execution_count": null,
   "id": "30",
   "metadata": {},
   "outputs": [
    {
     "data": {
      "text/plain": [
       "CostResponse(epsilon=1.0, delta=1.4999949999983109e-05)"
      ]
     },
     "execution_count": null,
     "metadata": {},
     "output_type": "execute_result"
    }
   ],
   "source": [
    "cost = client.smartnoise_sql.cost(\n",
    "    query = QUERY, \n",
    "    epsilon = EPSILON, \n",
    "    delta = DELTA,\n",
    "    mechanisms = {\"count\": \"gaussian\", \"sum_float\": \"laplace\"}\n",
    ")\n",
    "cost"
   ]
  },
  {
   "cell_type": "markdown",
   "id": "31",
   "metadata": {},
   "source": [
    "### Query real dataset\n",
    "Dr. Antartica is ready to query the real dataset and get a differentially private response for the average bill length. The `dummy` flag is False by default, so setting it is optional. She uses the values of `epsilon` and `delta` that she selected just before.\n",
    "\n",
    "Careful: This command DOES spend the budget of the user and the remaining budget is updated for every query."
   ]
  },
  {
   "cell_type": "code",
   "execution_count": null,
   "id": "32",
   "metadata": {},
   "outputs": [],
   "source": [
    "avg_bill_length_response = client.smartnoise_sql.query(\n",
    "    query = QUERY,  \n",
    "    epsilon = EPSILON, \n",
    "    delta = DELTA,\n",
    "    mechanisms = {\"count\": \"gaussian\", \"sum_float\": \"laplace\"},\n",
    "    dummy = False\n",
    ")"
   ]
  },
  {
   "cell_type": "code",
   "execution_count": null,
   "id": "33",
   "metadata": {},
   "outputs": [
    {
     "name": "stdout",
     "output_type": "stream",
     "text": [
      "Average bill length on private data: 43.78mm.\n"
     ]
    }
   ],
   "source": [
    "avg_bill_length = avg_bill_length_response.result.df['avg_bill_length_mm'].iloc[0]\n",
    "print(f\"Average bill length on private data: {np.round(avg_bill_length, 2)}mm.\")"
   ]
  },
  {
   "cell_type": "markdown",
   "id": "34",
   "metadata": {},
   "source": [
    "After each query on the real dataset, the budget informations are also returned to the researcher. It is possible possible to check the remaining budget again afterwards:"
   ]
  },
  {
   "cell_type": "markdown",
   "id": "35",
   "metadata": {},
   "source": [
    "### Postprocess "
   ]
  },
  {
   "cell_type": "markdown",
   "id": "36",
   "metadata": {},
   "source": [
    "It is also possible to use the 'postprocess' argument from Smartnoise-SQL [see its documentation here](https://docs.smartnoise.org/sql/advanced.html#postprocess) by specifying it in the query."
   ]
  },
  {
   "cell_type": "code",
   "execution_count": null,
   "id": "37",
   "metadata": {},
   "outputs": [
    {
     "data": {
      "text/plain": [
       "QueryResponse(epsilon=1.0, delta=5.000000000032756e-06, requested_by='Dr.Antartica', result=SmartnoiseSQLQueryResult(res_type=<DPLibraries.SMARTNOISE_SQL: 'smartnoise_sql'>, df=   avg_bill_length_mm\n",
       "0           48.370249))"
      ]
     },
     "execution_count": null,
     "metadata": {},
     "output_type": "execute_result"
    }
   ],
   "source": [
    "dummy_res = client.smartnoise_sql.query(\n",
    "    query = QUERY,  \n",
    "    epsilon = EPSILON,\n",
    "    delta = DELTA,\n",
    "    postprocess = True,\n",
    "    dummy = True,\n",
    ")\n",
    "dummy_res"
   ]
  },
  {
   "cell_type": "code",
   "execution_count": null,
   "id": "38",
   "metadata": {},
   "outputs": [
    {
     "data": {
      "text/plain": [
       "QueryResponse(epsilon=1.0, delta=5.000000000032756e-06, requested_by='Dr.Antartica', result=SmartnoiseSQLQueryResult(res_type=<DPLibraries.SMARTNOISE_SQL: 'smartnoise_sql'>, df=         res_0       res_1\n",
       "0  4636.171538  100.761072))"
      ]
     },
     "execution_count": null,
     "metadata": {},
     "output_type": "execute_result"
    }
   ],
   "source": [
    "dummy_res = client.smartnoise_sql.query(\n",
    "    query = QUERY,  \n",
    "    epsilon = EPSILON,\n",
    "    delta = DELTA,\n",
    "    postprocess = False,\n",
    "    dummy = True,\n",
    ")\n",
    "dummy_res"
   ]
  },
  {
   "cell_type": "markdown",
   "id": "39",
   "metadata": {},
   "source": [
    "## Step 4: Penguin statistics"
   ]
  },
  {
   "cell_type": "markdown",
   "id": "40",
   "metadata": {},
   "source": [
    "### Confidence intervals for flipper length over the whole population"
   ]
  },
  {
   "cell_type": "markdown",
   "id": "41",
   "metadata": {},
   "source": [
    "She is first interested to have a better idea of the distribution of bill length of all species. She already has the number of penguins (=number of rows as `max_ids=1`) from the metadata and the average bill length from step 3, so she just needs to compute the standard deviation. As it is just an exploration step, she uses very little budget values."
   ]
  },
  {
   "cell_type": "code",
   "execution_count": null,
   "id": "42",
   "metadata": {},
   "outputs": [],
   "source": [
    "QUERY = \"SELECT STD(bill_length_mm) AS std_bill_length_mm FROM df\""
   ]
  },
  {
   "cell_type": "markdown",
   "id": "43",
   "metadata": {},
   "source": [
    "She again first verifies that her query works on the dummy dataset:"
   ]
  },
  {
   "cell_type": "code",
   "execution_count": null,
   "id": "44",
   "metadata": {},
   "outputs": [],
   "source": [
    "dummy_res = client.smartnoise_sql.query(\n",
    "    query = QUERY, \n",
    "    epsilon = 0.5, \n",
    "    delta = 1e-5, \n",
    "    dummy = True\n",
    ")"
   ]
  },
  {
   "cell_type": "code",
   "execution_count": null,
   "id": "45",
   "metadata": {},
   "outputs": [
    {
     "data": {
      "text/plain": [
       "'The dummy standard variation is 19.0.'"
      ]
     },
     "execution_count": null,
     "metadata": {},
     "output_type": "execute_result"
    }
   ],
   "source": [
    "dummy_std = np.round(dummy_res.result.df['std_bill_length_mm'].iloc[0], 2)\n",
    "f\"The dummy standard variation is {dummy_std}.\""
   ]
  },
  {
   "cell_type": "markdown",
   "id": "46",
   "metadata": {},
   "source": [
    "The syntax of the query works, now she checks the budget:"
   ]
  },
  {
   "cell_type": "code",
   "execution_count": null,
   "id": "47",
   "metadata": {},
   "outputs": [],
   "source": [
    "cost = client.smartnoise_sql.cost(\n",
    "    query = QUERY, \n",
    "    epsilon = 0.5, \n",
    "    delta = 1e-5\n",
    ")"
   ]
  },
  {
   "cell_type": "code",
   "execution_count": null,
   "id": "48",
   "metadata": {},
   "outputs": [
    {
     "data": {
      "text/plain": [
       "'This query would actually cost her 1.5 epsilon and 5.000000000032756e-06 delta.'"
      ]
     },
     "execution_count": null,
     "metadata": {},
     "output_type": "execute_result"
    }
   ],
   "source": [
    "f'This query would actually cost her {cost.epsilon} epsilon and {cost.delta} delta.'"
   ]
  },
  {
   "cell_type": "markdown",
   "id": "49",
   "metadata": {},
   "source": [
    "This time it is three times the budget because the standard deviation needs the average, then a difference and a count again. "
   ]
  },
  {
   "cell_type": "code",
   "execution_count": null,
   "id": "50",
   "metadata": {},
   "outputs": [],
   "source": [
    "response = client.smartnoise_sql.query(\n",
    "    query = QUERY,\n",
    "    epsilon = 0.5,\n",
    "    delta = 1e-5\n",
    ")"
   ]
  },
  {
   "cell_type": "code",
   "execution_count": null,
   "id": "51",
   "metadata": {},
   "outputs": [
    {
     "name": "stdout",
     "output_type": "stream",
     "text": [
      "Standard deviation of bill length: 7.12.\n"
     ]
    }
   ],
   "source": [
    "std_bill_length = response.result.df['std_bill_length_mm'].iloc[0]\n",
    "print(f\"Standard deviation of bill length: {np.round(std_bill_length, 2)}.\")"
   ]
  },
  {
   "cell_type": "markdown",
   "id": "52",
   "metadata": {},
   "source": [
    "She can now do all the postprocessing that she wants with the returned data without increasing the privacy risk. "
   ]
  },
  {
   "cell_type": "code",
   "execution_count": null,
   "id": "53",
   "metadata": {},
   "outputs": [
    {
     "name": "stdout",
     "output_type": "stream",
     "text": [
      "Standard error of bill length: 0.38.\n"
     ]
    }
   ],
   "source": [
    "# Get standard error\n",
    "standard_error = std_bill_length/np.sqrt(nb_penguin)\n",
    "print(f\"Standard error of bill length: {np.round(standard_error, 2)}.\")"
   ]
  },
  {
   "cell_type": "code",
   "execution_count": null,
   "id": "54",
   "metadata": {},
   "outputs": [
    {
     "name": "stdout",
     "output_type": "stream",
     "text": [
      "The 95% confidence interval of the bill length of all penguins is [43.03, 44.54].\n"
     ]
    }
   ],
   "source": [
    " # Compute the 95% confidence interval\n",
    "ZSCORE = 1.96\n",
    "lower_bound, upper_bound = avg_bill_length - ZSCORE*standard_error, avg_bill_length + ZSCORE*standard_error\n",
    "print(f\"The 95% confidence interval of the bill length of all penguins is [{np.round(lower_bound, 2)}, {np.round(upper_bound, 2)}].\")"
   ]
  },
  {
   "cell_type": "markdown",
   "id": "55",
   "metadata": {},
   "source": [
    "## Note on budget with Smartnoise-SQL (Advanced)"
   ]
  },
  {
   "cell_type": "markdown",
   "id": "56",
   "metadata": {},
   "source": [
    "All of these queries will cost the same budget in Smartnoise-SQL. The reason is that the smartnoise-sql translates the input query in sub queries, finds the answer for each sub query for the budget in input and then assembles the results. For the first 'standard deviation' query, it requires a count, an average, and only then the computation for the standard deviation. Hence, to save budget it is better to make a general query directly and retrieve all the 'sub-answers'."
   ]
  },
  {
   "cell_type": "code",
   "execution_count": null,
   "id": "57",
   "metadata": {},
   "outputs": [],
   "source": [
    "epsilon = 1.0\n",
    "delta = 1e-5"
   ]
  },
  {
   "cell_type": "code",
   "execution_count": null,
   "id": "58",
   "metadata": {},
   "outputs": [
    {
     "data": {
      "text/plain": [
       "CostResponse(epsilon=3.0, delta=5.000000000032756e-06)"
      ]
     },
     "execution_count": null,
     "metadata": {},
     "output_type": "execute_result"
    }
   ],
   "source": [
    "QUERY = \"SELECT STD(bill_length_mm) AS std_bill_length_mm FROM df\"\n",
    "cost = client.smartnoise_sql.cost(query = QUERY, epsilon = epsilon, delta = delta)\n",
    "cost"
   ]
  },
  {
   "cell_type": "code",
   "execution_count": null,
   "id": "59",
   "metadata": {},
   "outputs": [
    {
     "data": {
      "text/plain": [
       "CostResponse(epsilon=3.0, delta=5.000000000032756e-06)"
      ]
     },
     "execution_count": null,
     "metadata": {},
     "output_type": "execute_result"
    }
   ],
   "source": [
    "QUERY = \"SELECT AVG(bill_length_mm) AS avg_bl, STD(bill_length_mm) as std_bl FROM df\"\n",
    "cost = client.smartnoise_sql.cost(query = QUERY, epsilon = epsilon, delta = delta)\n",
    "cost"
   ]
  },
  {
   "cell_type": "code",
   "execution_count": null,
   "id": "60",
   "metadata": {},
   "outputs": [
    {
     "data": {
      "text/plain": [
       "CostResponse(epsilon=3.0, delta=5.000000000032756e-06)"
      ]
     },
     "execution_count": null,
     "metadata": {},
     "output_type": "execute_result"
    }
   ],
   "source": [
    "QUERY = \"SELECT COUNT(bill_length_mm) AS count_bl, AVG(bill_length_mm) AS avg_bl, STD(bill_length_mm) as std_bl FROM df\"\n",
    "cost = client.smartnoise_sql.cost(query = QUERY, epsilon = epsilon, delta = delta)\n",
    "cost"
   ]
  },
  {
   "cell_type": "markdown",
   "id": "61",
   "metadata": {},
   "source": [
    "A way to know the sub-queries of a query is to use the following Smartnoise-SQL code:"
   ]
  },
  {
   "cell_type": "code",
   "execution_count": null,
   "id": "62",
   "metadata": {},
   "outputs": [],
   "source": [
    "# Convert metadata to Smartnoise-SQL compliant metadata\n",
    "metadata = dict(metadata)\n",
    "metadata.update(metadata[\"columns\"])\n",
    "del metadata[\"columns\"]\n",
    "snsql_metadata = {\"\": {\"\": {\"df\": metadata}}}"
   ]
  },
  {
   "cell_type": "code",
   "execution_count": null,
   "id": "63",
   "metadata": {},
   "outputs": [],
   "source": [
    "# Write the query to inspect\n",
    "QUERY = \"SELECT STD(bill_length_mm) as std_bl FROM df\"\n",
    "#QUERY = \"SELECT COUNT(*) as nb_row FROM df\""
   ]
  },
  {
   "cell_type": "code",
   "execution_count": null,
   "id": "64",
   "metadata": {},
   "outputs": [
    {
     "data": {
      "text/plain": [
       "<snsql._ast.ast.Query at 0x76b1d81c74d0>"
      ]
     },
     "execution_count": null,
     "metadata": {},
     "output_type": "execute_result"
    }
   ],
   "source": [
    "from snsql.sql.private_rewriter import Rewriter\n",
    "rewriter = Rewriter(snsql_metadata)\n",
    "rewriter.options.row_privacy = metadata[\"row_privacy\"]\n",
    "rewriter.options.max_contrib = metadata[\"max_ids\"]\n",
    "dp_query = rewriter.query(QUERY)\n",
    "dp_query"
   ]
  },
  {
   "cell_type": "markdown",
   "id": "65",
   "metadata": {},
   "source": [
    "The original dp query is represented as one query:"
   ]
  },
  {
   "cell_type": "code",
   "execution_count": null,
   "id": "66",
   "metadata": {},
   "outputs": [
    {
     "data": {
      "text/plain": [
       "{'std_bl': <snsql._ast.tokens.Symbol at 0x76b1d81e9010>}"
      ]
     },
     "execution_count": null,
     "metadata": {},
     "output_type": "execute_result"
    }
   ],
   "source": [
    "dp_query._named_symbols"
   ]
  },
  {
   "cell_type": "markdown",
   "id": "67",
   "metadata": {},
   "source": [
    "But has 4 named symbols inside: 2 alias for the 2 SQL subqueries \n",
    "- 'keycount' for 'count_bill_length_mm',\n",
    "- 'sum_alias_0xxxx' for 'sum_bill_length_mm'"
   ]
  },
  {
   "cell_type": "code",
   "execution_count": null,
   "id": "68",
   "metadata": {},
   "outputs": [
    {
     "data": {
      "text/plain": [
       "{'keycount': <snsql._ast.tokens.Symbol at 0x76b1d81c5ee0>,\n",
       " 'sum_alias_0xf3d7': <snsql._ast.tokens.Symbol at 0x76b1d81c5b20>,\n",
       " 'count_bill_length_mm': <snsql._ast.tokens.Symbol at 0x76b1d81c5eb0>,\n",
       " 'sum_bill_length_mm': <snsql._ast.tokens.Symbol at 0x76b1d8142ba0>}"
      ]
     },
     "execution_count": null,
     "metadata": {},
     "output_type": "execute_result"
    }
   ],
   "source": [
    "subquery = dp_query.source.relations[0].primary.query\n",
    "syms = subquery._named_symbols\n",
    "syms"
   ]
  },
  {
   "cell_type": "markdown",
   "id": "69",
   "metadata": {},
   "source": [
    "This last query with `group_by` will cost the same because `max_ids=1` (a penguin appears in the dataset at most once) and so the `group_by` is applied on different partitions of the population."
   ]
  },
  {
   "cell_type": "code",
   "execution_count": null,
   "id": "70",
   "metadata": {},
   "outputs": [
    {
     "data": {
      "text/plain": [
       "CostResponse(epsilon=3.0, delta=5.000000000032756e-06)"
      ]
     },
     "execution_count": null,
     "metadata": {},
     "output_type": "execute_result"
    }
   ],
   "source": [
    "QUERY = \"SELECT COUNT(bill_length_mm) AS count_bl, AVG(bill_length_mm) AS avg_bl, STD(bill_length_mm) as std_bl FROM df GROUP BY species\"\n",
    "cost = client.smartnoise_sql.cost(query = QUERY, epsilon = epsilon, delta = delta)\n",
    "cost"
   ]
  },
  {
   "cell_type": "markdown",
   "id": "71",
   "metadata": {},
   "source": [
    "NOTE: in the current code of Smartnoise-SQL, there is no odometer. Meaning all queries are independant. If someone first queries the private dataset for a count, then a second time for the average and then for the standard deviation then the total cost will be added: 3 count + 2 average + 1 std. That's why it is better to do everything in one query."
   ]
  },
  {
   "cell_type": "markdown",
   "id": "72",
   "metadata": {},
   "source": [
    "### Hypothesis testing"
   ]
  },
  {
   "cell_type": "markdown",
   "id": "73",
   "metadata": {},
   "source": [
    "So, Dr. Antartica has now the opportunity to study the various penguins dimensions and will do an hypotheses testing analysis to discover if flipper length differ between the penguins species.\n",
    "\n",
    "She will do a two-tailed two-sample $t$ test.\n",
    "\n",
    "- The null hypothese $H_0$ is flipper length does not differ between species.\n",
    "- The alternative hypothesis $H_a$ is flipper length does differ between species.\n",
    "\n",
    "She set the level of significance at 0.05."
   ]
  },
  {
   "cell_type": "code",
   "execution_count": null,
   "id": "74",
   "metadata": {},
   "outputs": [],
   "source": [
    "CRITICAL_VALUE = 0.05"
   ]
  },
  {
   "cell_type": "code",
   "execution_count": null,
   "id": "75",
   "metadata": {},
   "outputs": [],
   "source": [
    "QUERY = \"SELECT \\\n",
    "        species AS species, \\\n",
    "        COUNT(bill_length_mm) AS nb_penguin,  \\\n",
    "        AVG(bill_length_mm) AS avg_bill_length_mm, \\\n",
    "        STD(bill_length_mm) AS std_bill_length_mm \\\n",
    "        FROM df GROUP BY species\""
   ]
  },
  {
   "cell_type": "markdown",
   "id": "76",
   "metadata": {},
   "source": [
    "She checks the remaining budget:"
   ]
  },
  {
   "cell_type": "code",
   "execution_count": null,
   "id": "77",
   "metadata": {},
   "outputs": [
    {
     "data": {
      "text/plain": [
       "RemainingBudgetResponse(remaining_epsilon=7.5, remaining_delta=0.004980000049999984)"
      ]
     },
     "execution_count": null,
     "metadata": {},
     "output_type": "execute_result"
    }
   ],
   "source": [
    "client.get_remaining_budget()"
   ]
  },
  {
   "cell_type": "markdown",
   "id": "78",
   "metadata": {},
   "source": [
    "She estimates how much budget it would really cost:"
   ]
  },
  {
   "cell_type": "code",
   "execution_count": null,
   "id": "79",
   "metadata": {},
   "outputs": [
    {
     "data": {
      "text/plain": [
       "CostResponse(epsilon=3.0, delta=4.999999999999449e-05)"
      ]
     },
     "execution_count": null,
     "metadata": {},
     "output_type": "execute_result"
    }
   ],
   "source": [
    "client.smartnoise_sql.cost(query = QUERY, epsilon = 1.0, delta = 1e-4)"
   ]
  },
  {
   "cell_type": "markdown",
   "id": "80",
   "metadata": {},
   "source": [
    "The real cost seems to be 3 times the epsilon that she sets. It is a lot but she tries on the dummy dataset to verify all is working properly."
   ]
  },
  {
   "cell_type": "code",
   "execution_count": null,
   "id": "81",
   "metadata": {
    "tags": [
     "raises-exception"
    ]
   },
   "outputs": [
    {
     "ename": "InvalidQueryException",
     "evalue": "SQL Reader generated NAN results. Epsilon: 0.1 and Delta: 1e-08 are too small to generate output.",
     "output_type": "error",
     "traceback": [
      "\u001b[31m---------------------------------------------------------------------------\u001b[39m",
      "\u001b[31mInvalidQueryException\u001b[39m                     Traceback (most recent call last)",
      "\u001b[36mCell\u001b[39m\u001b[36m \u001b[39m\u001b[32mIn[45]\u001b[39m\u001b[32m, line 1\u001b[39m\n\u001b[32m----> \u001b[39m\u001b[32m1\u001b[39m dummy_res = \u001b[43mclient\u001b[49m\u001b[43m.\u001b[49m\u001b[43msmartnoise_sql\u001b[49m\u001b[43m.\u001b[49m\u001b[43mquery\u001b[49m\u001b[43m(\u001b[49m\u001b[43mquery\u001b[49m\u001b[43m \u001b[49m\u001b[43m=\u001b[49m\u001b[43m \u001b[49m\u001b[43mQUERY\u001b[49m\u001b[43m,\u001b[49m\u001b[43m \u001b[49m\u001b[43mepsilon\u001b[49m\u001b[43m \u001b[49m\u001b[43m=\u001b[49m\u001b[43m \u001b[49m\u001b[32;43m0.1\u001b[39;49m\u001b[43m,\u001b[49m\u001b[43m \u001b[49m\u001b[43mdelta\u001b[49m\u001b[43m \u001b[49m\u001b[43m=\u001b[49m\u001b[43m \u001b[49m\u001b[32;43m1e-8\u001b[39;49m\u001b[43m,\u001b[49m\u001b[43m \u001b[49m\u001b[43mdummy\u001b[49m\u001b[43m \u001b[49m\u001b[43m=\u001b[49m\u001b[43m \u001b[49m\u001b[38;5;28;43;01mTrue\u001b[39;49;00m\u001b[43m)\u001b[49m\n\u001b[32m      2\u001b[39m dummy_res\n",
      "\u001b[36mFile \u001b[39m\u001b[32m~/work/sdd-poc-server/client/lomas_client/libraries/smartnoise_sql.py:115\u001b[39m, in \u001b[36mSmartnoiseSQLClient.query\u001b[39m\u001b[34m(self, query, epsilon, delta, mechanisms, postprocess, dummy, nb_rows, seed)\u001b[39m\n\u001b[32m    112\u001b[39m body = request_model.model_validate(body_dict)\n\u001b[32m    113\u001b[39m res = \u001b[38;5;28mself\u001b[39m.http_client.post(endpoint, body)\n\u001b[32m--> \u001b[39m\u001b[32m115\u001b[39m \u001b[38;5;28;01mreturn\u001b[39;00m \u001b[43mvalidate_model_response\u001b[49m\u001b[43m(\u001b[49m\u001b[38;5;28;43mself\u001b[39;49m\u001b[43m.\u001b[49m\u001b[43mhttp_client\u001b[49m\u001b[43m,\u001b[49m\u001b[43m \u001b[49m\u001b[43mres\u001b[49m\u001b[43m,\u001b[49m\u001b[43m \u001b[49m\u001b[43mQueryResponse\u001b[49m\u001b[43m)\u001b[49m\n",
      "\u001b[36mFile \u001b[39m\u001b[32m~/work/sdd-poc-server/client/lomas_client/utils.py:97\u001b[39m, in \u001b[36mvalidate_model_response\u001b[39m\u001b[34m(client, response, response_model)\u001b[39m\n\u001b[32m     95\u001b[39m \u001b[38;5;28;01mif\u001b[39;00m job.status == \u001b[33m\"\u001b[39m\u001b[33mfailed\u001b[39m\u001b[33m\"\u001b[39m:\n\u001b[32m     96\u001b[39m     \u001b[38;5;28;01massert\u001b[39;00m job.error \u001b[38;5;129;01mis\u001b[39;00m \u001b[38;5;129;01mnot\u001b[39;00m \u001b[38;5;28;01mNone\u001b[39;00m, \u001b[33m\"\u001b[39m\u001b[33mjob \u001b[39m\u001b[38;5;132;01m{job_uid}\u001b[39;00m\u001b[33m failed without error !\u001b[39m\u001b[33m\"\u001b[39m\n\u001b[32m---> \u001b[39m\u001b[32m97\u001b[39m     \u001b[43mraise_error_from_model\u001b[49m\u001b[43m(\u001b[49m\u001b[43mjob\u001b[49m\u001b[43m.\u001b[49m\u001b[43merror\u001b[49m\u001b[43m)\u001b[49m\n\u001b[32m     99\u001b[39m \u001b[38;5;28;01mreturn\u001b[39;00m response_model.model_validate(job.result)\n",
      "\u001b[36mFile \u001b[39m\u001b[32m~/work/sdd-poc-server/core/lomas_core/error_handler.py:148\u001b[39m, in \u001b[36mraise_error_from_model\u001b[39m\u001b[34m(error_model)\u001b[39m\n\u001b[32m    146\u001b[39m \u001b[38;5;28;01mmatch\u001b[39;00m error_model:\n\u001b[32m    147\u001b[39m     \u001b[38;5;28;01mcase\u001b[39;00m InvalidQueryExceptionModel():\n\u001b[32m--> \u001b[39m\u001b[32m148\u001b[39m         \u001b[38;5;28;01mraise\u001b[39;00m InvalidQueryException(error_model.message)\n\u001b[32m    149\u001b[39m     \u001b[38;5;28;01mcase\u001b[39;00m ExternalLibraryExceptionModel():\n\u001b[32m    150\u001b[39m         \u001b[38;5;28;01mraise\u001b[39;00m ExternalLibraryException(error_model.library, error_model.message)\n",
      "\u001b[31mInvalidQueryException\u001b[39m: SQL Reader generated NAN results. Epsilon: 0.1 and Delta: 1e-08 are too small to generate output."
     ]
    }
   ],
   "source": [
    "dummy_res = client.smartnoise_sql.query(query = QUERY, epsilon = 0.1, delta = 1e-8, dummy = True)\n",
    "dummy_res"
   ]
  },
  {
   "cell_type": "markdown",
   "id": "82",
   "metadata": {},
   "source": [
    "She did not give enough budget for the query to work. This is why there are 'NANs' in the output. She has to spend more budget for the query to work."
   ]
  },
  {
   "cell_type": "code",
   "execution_count": null,
   "id": "83",
   "metadata": {},
   "outputs": [
    {
     "data": {
      "text/plain": [
       "QueryResponse(epsilon=7.5, delta=4.999999999999449e-05, requested_by='Dr.Antartica', result=SmartnoiseSQLQueryResult(res_type=<DPLibraries.SMARTNOISE_SQL: 'smartnoise_sql'>, df=     species  nb_penguin  avg_bill_length_mm  std_bill_length_mm\n",
       "0     Adelie          26           49.350321           12.017164\n",
       "1  Chinstrap          32           48.275682           11.460034\n",
       "2     Gentoo          39           46.619363           11.623646))"
      ]
     },
     "execution_count": null,
     "metadata": {},
     "output_type": "execute_result"
    }
   ],
   "source": [
    "dummy_res = client.smartnoise_sql.query(query = QUERY, epsilon = 7.5/3, delta = 1e-4, dummy = True)\n",
    "\n",
    "dummy_res"
   ]
  },
  {
   "cell_type": "markdown",
   "id": "84",
   "metadata": {},
   "source": [
    "If it errors, she might need to re-run the query a few times until it works. The budget is not affected by dummy queries anyway."
   ]
  },
  {
   "cell_type": "code",
   "execution_count": null,
   "id": "85",
   "metadata": {},
   "outputs": [],
   "source": [
    "from lomas_core.error_handler import InvalidQueryException\n",
    "\n",
    "flipper_length_response = None\n",
    "\n",
    "for i in range(0, 10):\n",
    "    try:\n",
    "        flipper_length_response = client.smartnoise_sql.query(query = QUERY, epsilon = 7.5/3, delta = 1e-4)\n",
    "        break\n",
    "    except InvalidQueryException:\n",
    "        print(f\"Attempt number {i} failed.\")\n",
    "        continue\n",
    "\n",
    "if flipper_length_response is None:\n",
    "    print(\"10 unsuccessfull query attempts.\")"
   ]
  },
  {
   "cell_type": "markdown",
   "id": "86",
   "metadata": {},
   "source": [
    "And now she should not have any remaining budget:"
   ]
  },
  {
   "cell_type": "markdown",
   "id": "87",
   "metadata": {},
   "source": [
    "But she can do her post-processing and hypothesis analysis."
   ]
  },
  {
   "cell_type": "code",
   "execution_count": null,
   "id": "88",
   "metadata": {},
   "outputs": [
    {
     "data": {
      "text/html": [
       "<div>\n",
       "<style scoped>\n",
       "    .dataframe tbody tr th:only-of-type {\n",
       "        vertical-align: middle;\n",
       "    }\n",
       "\n",
       "    .dataframe tbody tr th {\n",
       "        vertical-align: top;\n",
       "    }\n",
       "\n",
       "    .dataframe thead th {\n",
       "        text-align: right;\n",
       "    }\n",
       "</style>\n",
       "<table border=\"1\" class=\"dataframe\">\n",
       "  <thead>\n",
       "    <tr style=\"text-align: right;\">\n",
       "      <th></th>\n",
       "      <th>species</th>\n",
       "      <th>nb_penguin</th>\n",
       "      <th>avg_bill_length_mm</th>\n",
       "      <th>std_bill_length_mm</th>\n",
       "    </tr>\n",
       "  </thead>\n",
       "  <tbody>\n",
       "    <tr>\n",
       "      <th>0</th>\n",
       "      <td>Adelie</td>\n",
       "      <td>150</td>\n",
       "      <td>38.846807</td>\n",
       "      <td>2.482983</td>\n",
       "    </tr>\n",
       "    <tr>\n",
       "      <th>1</th>\n",
       "      <td>Chinstrap</td>\n",
       "      <td>66</td>\n",
       "      <td>48.651670</td>\n",
       "      <td>6.125182</td>\n",
       "    </tr>\n",
       "    <tr>\n",
       "      <th>2</th>\n",
       "      <td>Gentoo</td>\n",
       "      <td>123</td>\n",
       "      <td>47.478053</td>\n",
       "      <td>2.275091</td>\n",
       "    </tr>\n",
       "  </tbody>\n",
       "</table>\n",
       "</div>"
      ],
      "text/plain": [
       "     species  nb_penguin  avg_bill_length_mm  std_bill_length_mm\n",
       "0     Adelie         150           38.846807            2.482983\n",
       "1  Chinstrap          66           48.651670            6.125182\n",
       "2     Gentoo         123           47.478053            2.275091"
      ]
     },
     "execution_count": null,
     "metadata": {},
     "output_type": "execute_result"
    }
   ],
   "source": [
    "df_flipper = flipper_length_response.result.df\n",
    "df_flipper"
   ]
  },
  {
   "cell_type": "markdown",
   "id": "89",
   "metadata": {},
   "source": [
    "And finally the $t$-test:"
   ]
  },
  {
   "cell_type": "code",
   "execution_count": null,
   "id": "90",
   "metadata": {},
   "outputs": [],
   "source": [
    "def t_test(avg_1, avg_2, std_1, std_2, nb_1, nb_2):\n",
    "    standard_error = (std_1 * (nb_1 - 1) + std_2 * (nb_2 - 1))/(nb_1 + nb_2 - 2)\n",
    "    return (avg_1 - avg_2)/np.sqrt(standard_error**2*(1/nb_1 + 1 /nb_2))"
   ]
  },
  {
   "cell_type": "code",
   "execution_count": null,
   "id": "91",
   "metadata": {},
   "outputs": [],
   "source": [
    "nb_0, avg_0, std_0 = df_flipper[['nb_penguin', 'avg_bill_length_mm', 'std_bill_length_mm']].iloc[0]\n",
    "nb_1, avg_1, std_1 = df_flipper[['nb_penguin', 'avg_bill_length_mm', 'std_bill_length_mm']].iloc[1]\n",
    "nb_2, avg_2, std_2 = df_flipper[['nb_penguin', 'avg_bill_length_mm', 'std_bill_length_mm']].iloc[2]"
   ]
  },
  {
   "cell_type": "code",
   "execution_count": null,
   "id": "92",
   "metadata": {},
   "outputs": [
    {
     "name": "stdout",
     "output_type": "stream",
     "text": [
      "T test between species 0 and specie 1: -18.49.  Reject null hypothesis: True.\n",
      "T test between species 0 and specie 2: -29.7. Reject null hypothesis: True.\n",
      "T test between species 1 and specie 2: 2.13.   Reject null hypothesis: True.\n"
     ]
    }
   ],
   "source": [
    "t_01 = t_test(avg_0, avg_1, std_0, std_1, nb_0, nb_1)\n",
    "t_02 = t_test(avg_0, avg_2, std_0, std_2, nb_0, nb_2)\n",
    "t_12 = t_test(avg_1, avg_2, std_1, std_2, nb_1, nb_2)\n",
    "\n",
    "print(f\"T test between species 0 and specie 1: {np.round(t_01, 2)}.  Reject null hypothesis: {abs(t_01) > CRITICAL_VALUE}.\")\n",
    "print(f\"T test between species 0 and specie 2: {np.round(t_02, 2)}. Reject null hypothesis: {abs(t_02) > CRITICAL_VALUE}.\")\n",
    "print(f\"T test between species 1 and specie 2: {np.round(t_12, 2)}.   Reject null hypothesis: {abs(t_12) > CRITICAL_VALUE}.\")"
   ]
  },
  {
   "cell_type": "markdown",
   "id": "93",
   "metadata": {},
   "source": [
    "All t-tests are above the critical value of 0.5. She can reject the null hypothesis."
   ]
  },
  {
   "cell_type": "markdown",
   "id": "94",
   "metadata": {},
   "source": [
    "She finally computes the confidence intervals for the flipper length of each species"
   ]
  },
  {
   "cell_type": "code",
   "execution_count": null,
   "id": "95",
   "metadata": {},
   "outputs": [
    {
     "data": {
      "text/html": [
       "<div>\n",
       "<style scoped>\n",
       "    .dataframe tbody tr th:only-of-type {\n",
       "        vertical-align: middle;\n",
       "    }\n",
       "\n",
       "    .dataframe tbody tr th {\n",
       "        vertical-align: top;\n",
       "    }\n",
       "\n",
       "    .dataframe thead th {\n",
       "        text-align: right;\n",
       "    }\n",
       "</style>\n",
       "<table border=\"1\" class=\"dataframe\">\n",
       "  <thead>\n",
       "    <tr style=\"text-align: right;\">\n",
       "      <th></th>\n",
       "      <th>species</th>\n",
       "      <th>nb_penguin</th>\n",
       "      <th>avg_bill_length_mm</th>\n",
       "      <th>std_bill_length_mm</th>\n",
       "      <th>standard_error</th>\n",
       "      <th>ci_95_lower_bound</th>\n",
       "      <th>ci_95_upper_bound</th>\n",
       "    </tr>\n",
       "  </thead>\n",
       "  <tbody>\n",
       "    <tr>\n",
       "      <th>0</th>\n",
       "      <td>Adelie</td>\n",
       "      <td>150</td>\n",
       "      <td>38.846807</td>\n",
       "      <td>2.482983</td>\n",
       "      <td>0.202735</td>\n",
       "      <td>38.449447</td>\n",
       "      <td>39.244167</td>\n",
       "    </tr>\n",
       "    <tr>\n",
       "      <th>1</th>\n",
       "      <td>Chinstrap</td>\n",
       "      <td>66</td>\n",
       "      <td>48.651670</td>\n",
       "      <td>6.125182</td>\n",
       "      <td>0.753958</td>\n",
       "      <td>47.173913</td>\n",
       "      <td>50.129428</td>\n",
       "    </tr>\n",
       "    <tr>\n",
       "      <th>2</th>\n",
       "      <td>Gentoo</td>\n",
       "      <td>123</td>\n",
       "      <td>47.478053</td>\n",
       "      <td>2.275091</td>\n",
       "      <td>0.205138</td>\n",
       "      <td>47.075982</td>\n",
       "      <td>47.880124</td>\n",
       "    </tr>\n",
       "  </tbody>\n",
       "</table>\n",
       "</div>"
      ],
      "text/plain": [
       "     species  nb_penguin  avg_bill_length_mm  std_bill_length_mm  \\\n",
       "0     Adelie         150           38.846807            2.482983   \n",
       "1  Chinstrap          66           48.651670            6.125182   \n",
       "2     Gentoo         123           47.478053            2.275091   \n",
       "\n",
       "   standard_error  ci_95_lower_bound  ci_95_upper_bound  \n",
       "0        0.202735          38.449447          39.244167  \n",
       "1        0.753958          47.173913          50.129428  \n",
       "2        0.205138          47.075982          47.880124  "
      ]
     },
     "execution_count": null,
     "metadata": {},
     "output_type": "execute_result"
    }
   ],
   "source": [
    "ZSCORE = 1.96\n",
    "df_flipper['standard_error'] = df_flipper['std_bill_length_mm']/np.sqrt(df_flipper['nb_penguin'])\n",
    "df_flipper['ci_95_lower_bound'] = df_flipper['avg_bill_length_mm'] - ZSCORE * df_flipper['standard_error']\n",
    "df_flipper['ci_95_upper_bound'] = df_flipper['avg_bill_length_mm'] + ZSCORE * df_flipper['standard_error']\n",
    "df_flipper"
   ]
  }
 ],
 "metadata": {
  "kernelspec": {
   "display_name": "Python 3 (ipykernel)",
   "language": "python",
   "name": "python3"
  },
  "language_info": {
   "codemirror_mode": {
    "name": "ipython",
    "version": 3
   },
   "file_extension": ".py",
   "mimetype": "text/x-python",
   "name": "python",
   "nbconvert_exporter": "python",
   "pygments_lexer": "ipython3",
   "version": "3.12.9"
  }
 },
 "nbformat": 4,
 "nbformat_minor": 5
}
